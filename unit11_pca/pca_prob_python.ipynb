{
 "cells": [
  {
   "cell_type": "markdown",
   "metadata": {},
   "source": [
    "# Solutions to PCA Problems"
   ]
  },
  {
   "cell_type": "code",
   "execution_count": 2,
   "metadata": {},
   "outputs": [],
   "source": [
    "import numpy as np\n",
    "import matplotlib.pyplot as plt"
   ]
  },
  {
   "cell_type": "markdown",
   "metadata": {},
   "source": [
    "## Problem 1(a)\n",
    "\n",
    "Sample mean"
   ]
  },
  {
   "cell_type": "code",
   "execution_count": 3,
   "metadata": {},
   "outputs": [
    {
     "name": "stdout",
     "output_type": "stream",
     "text": [
      "[1.5 2.5 3.5]\n"
     ]
    }
   ],
   "source": [
    "X = np.array([[3,2,1], [2,4,5], [1,2,3], [0,2,5]])\n",
    "mu = np.mean(X, axis=0)\n",
    "print(mu)"
   ]
  },
  {
   "cell_type": "markdown",
   "metadata": {},
   "source": [
    "## Problem 1(b)\n",
    "Sample covariance"
   ]
  },
  {
   "cell_type": "code",
   "execution_count": 4,
   "metadata": {},
   "outputs": [
    {
     "name": "stdout",
     "output_type": "stream",
     "text": [
      "[[ 1.25  0.25 -1.25]\n",
      " [ 0.25  0.75  0.75]\n",
      " [-1.25  0.75  2.75]]\n"
     ]
    }
   ],
   "source": [
    "n = X.shape[0]\n",
    "Xm = X - mu[None,:]  # Python broadcasting\n",
    "Q = (1/n)*Xm.T.dot(Xm)\n",
    "print(Q)"
   ]
  },
  {
   "cell_type": "code",
   "execution_count": null,
   "metadata": {},
   "outputs": [],
   "source": [
    "n = X.shape[0]\n",
    "Xm = X - mu[None,:]  # Python broadcasting\n",
    "Q = (1/n)*Xm.T.dot(Xm)\n",
    "np.cov(X.T, bias=True)\n",
    "lam, V = np.linalg.eigh(Q)\n",
    "Z = (X - mu[None,:]).dot(V) # coef in new basis\n",
    "Xhat = Z.dot(V.T) + mu[None,:] # reconstruct\n",
    "# approximation\n",
    "Xhat = Z[:,k-1:].dot(V[:,k-1:].T) + mu[None,:]\n",
    "# error = lambda_2\n",
    "Xerr = np.mean(np.sum((Xhat-X)**2,axis=1))"
   ]
  },
  {
   "cell_type": "markdown",
   "metadata": {},
   "source": [
    "You can also compute it with the `np.cov` function.  Note that you must set `bias=True` for the correct scaling."
   ]
  },
  {
   "cell_type": "code",
   "execution_count": 11,
   "metadata": {},
   "outputs": [
    {
     "name": "stdout",
     "output_type": "stream",
     "text": [
      "[[ 1.25  0.25 -1.25]\n",
      " [ 0.25  0.75  0.75]\n",
      " [-1.25  0.75  2.75]]\n"
     ]
    }
   ],
   "source": [
    "print(np.cov(X.T, bias=True))"
   ]
  },
  {
   "cell_type": "markdown",
   "metadata": {},
   "source": [
    "## Problem 1(c)\n",
    "\n",
    "Eigenvalues"
   ]
  },
  {
   "cell_type": "code",
   "execution_count": 5,
   "metadata": {},
   "outputs": [
    {
     "name": "stdout",
     "output_type": "stream",
     "text": [
      "[0.01495506 1.1733803  3.56166464]\n",
      "[[ 0.59363515  0.66677184 -0.45056922]\n",
      " [-0.66472154  0.72187235  0.19247228]\n",
      " [ 0.45358856  0.18524476  0.87174641]]\n"
     ]
    }
   ],
   "source": [
    "lam, V = np.linalg.eigh(Q)\n",
    "print(lam)\n",
    "print(V)"
   ]
  },
  {
   "cell_type": "markdown",
   "metadata": {},
   "source": [
    "## Problem 1(d) and (e)\n",
    "Transform and reconstruct `X`.  You see that `Xhat` matches `X`"
   ]
  },
  {
   "cell_type": "code",
   "execution_count": 8,
   "metadata": {},
   "outputs": [
    {
     "name": "stdout",
     "output_type": "stream",
     "text": [
      "[[3 2 1]\n",
      " [2 4 5]\n",
      " [1 2 3]\n",
      " [0 2 5]]\n"
     ]
    }
   ],
   "source": [
    "# Get the coefficients\n",
    "Z = (X - mu[None,:]).dot(V)\n",
    "\n",
    "# Reconstruct the X.  \n",
    "Xhat = Z.dot(V.T) + mu[None,:]\n",
    "print(X)"
   ]
  },
  {
   "cell_type": "markdown",
   "metadata": {},
   "source": [
    "## Problem 1(f).  \n",
    "\n",
    "Approximate with the two largest PCs.  Note that the `eigh` function sorts the eigenvalues in ascending order, so we select the last two columns."
   ]
  },
  {
   "cell_type": "code",
   "execution_count": 19,
   "metadata": {},
   "outputs": [
    {
     "name": "stdout",
     "output_type": "stream",
     "text": [
      "[[ 2.94726021  2.05905526  0.95970224]\n",
      " [ 2.0118026   3.98678407  5.0090182 ]\n",
      " [ 1.11353336  1.87287129  3.0867493 ]\n",
      " [-0.07259617  2.08128939  4.94453025]]\n"
     ]
    }
   ],
   "source": [
    "k = 2\n",
    "Xhat = Z[:,k-1:].dot(V[:,k-1:].T) + mu[None,:]\n",
    "print(Xhat)"
   ]
  },
  {
   "cell_type": "markdown",
   "metadata": {},
   "source": [
    "## Problem 1(g)\n",
    "\n",
    "Approximation error"
   ]
  },
  {
   "cell_type": "code",
   "execution_count": 20,
   "metadata": {},
   "outputs": [
    {
     "name": "stdout",
     "output_type": "stream",
     "text": [
      "0.014955061432806494\n"
     ]
    },
    {
     "data": {
      "text/plain": [
       "array([0.01495506, 1.1733803 , 3.56166464])"
      ]
     },
     "execution_count": 20,
     "metadata": {},
     "output_type": "execute_result"
    }
   ],
   "source": [
    "Xerr = np.mean(np.sum((Xhat-X)**2,axis=1))\n",
    "print(Xerr)\n",
    "lam"
   ]
  },
  {
   "cell_type": "markdown",
   "metadata": {},
   "source": [
    "## Problem 2"
   ]
  },
  {
   "cell_type": "code",
   "execution_count": 21,
   "metadata": {},
   "outputs": [],
   "source": [
    "mu = np.array([1, 0, 2]) \n",
    "v1 = 1/np.sqrt(2)*np.array([1,1,0])\n",
    "v2 = 1/np.sqrt(2)*np.array([1,-1,0])\n",
    "x = np.array([2,3,4])"
   ]
  },
  {
   "cell_type": "code",
   "execution_count": 22,
   "metadata": {},
   "outputs": [
    {
     "name": "stdout",
     "output_type": "stream",
     "text": [
      "[2.82842712474619, -1.414213562373095]\n"
     ]
    }
   ],
   "source": [
    "# Part 2(a)\n",
    "\n",
    "z1 = v1.dot(x-mu)\n",
    "z2 = v2.dot(x-mu)\n",
    "print([z1,z2])"
   ]
  },
  {
   "cell_type": "code",
   "execution_count": 23,
   "metadata": {},
   "outputs": [
    {
     "name": "stdout",
     "output_type": "stream",
     "text": [
      "[2. 3. 2.]\n"
     ]
    }
   ],
   "source": [
    "# Part 2(b)\n",
    "xhat = z1*v1 + z2*v2 + mu\n",
    "print(xhat)"
   ]
  },
  {
   "cell_type": "code",
   "execution_count": 24,
   "metadata": {},
   "outputs": [
    {
     "data": {
      "text/plain": [
       "4.0"
      ]
     },
     "execution_count": 24,
     "metadata": {},
     "output_type": "execute_result"
    }
   ],
   "source": [
    "# Part 2(c)\n",
    "np.sum((x-xhat)**2)"
   ]
  },
  {
   "cell_type": "code",
   "execution_count": null,
   "metadata": {},
   "outputs": [],
   "source": [
    "# 算x在v1 v2下的coef\n",
    "z1 = v1.dot(x-mu)\n",
    "z2 = v2.dot(x-mu)\n",
    "xhat = z1*v1 + z2*v2 + mu # reconstruct\n",
    "np.sum((x-xhat)**2) # error"
   ]
  }
 ],
 "metadata": {
  "kernelspec": {
   "display_name": "Python 3",
   "language": "python",
   "name": "python3"
  },
  "language_info": {
   "codemirror_mode": {
    "name": "ipython",
    "version": 3
   },
   "file_extension": ".py",
   "mimetype": "text/x-python",
   "name": "python",
   "nbconvert_exporter": "python",
   "pygments_lexer": "ipython3",
   "version": "3.6.8"
  }
 },
 "nbformat": 4,
 "nbformat_minor": 2
}
