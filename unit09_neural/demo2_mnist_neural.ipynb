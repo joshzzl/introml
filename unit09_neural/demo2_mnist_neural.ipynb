{
 "cells": [
  {
   "cell_type": "markdown",
   "metadata": {},
   "source": [
    "# MNIST Classification via a Neural Network\n",
    "\n",
    "In the the [MNIST SVM example](../svm/mnist_svm.ipynb), we introduced the classic MNIST digit classification problem and trained a simple SVM classifier for the model.  In this demo, we will try a simple neural network.  The network we will create will not perform quite as well -- we will obtain an accuracy of only around 97%, while the SVM classifier obtains an accuracy of over 98%.  However, once we understand these simple neural networks, we will be able to build more sophisticated networks that can obtain much better classification rate.  Also, in doing this demo, you will learn several important features of the `keras` package in addition to the concepts shown in the [simple neural network example](./synthetic.ipynb):\n",
    "\n",
    "* How to construct multi-class classifiers using categorical cross entropy.\n",
    "* How to optimize using mini-batches.\n",
    "* How to save and load the model after training.  "
   ]
  },
  {
   "cell_type": "markdown",
   "metadata": {},
   "source": [
    "## Loading the Keras package and the MNIST data\n",
    "\n",
    "We first load the `keras` package as in the [simple neural network example](./synthetic.ipynb)."
   ]
  },
  {
   "cell_type": "code",
   "execution_count": 1,
   "metadata": {},
   "outputs": [
    {
     "name": "stderr",
     "output_type": "stream",
     "text": [
      "Using TensorFlow backend.\n"
     ]
    }
   ],
   "source": [
    "import keras"
   ]
  },
  {
   "cell_type": "markdown",
   "metadata": {},
   "source": [
    "We also load some other common packages."
   ]
  },
  {
   "cell_type": "code",
   "execution_count": 2,
   "metadata": {
    "collapsed": true
   },
   "outputs": [],
   "source": [
    "import numpy as np\n",
    "import matplotlib.pyplot as plt\n",
    "%matplotlib inline"
   ]
  },
  {
   "cell_type": "markdown",
   "metadata": {},
   "source": [
    "Next, we get the MNIST data as in the [MNIST SVM example](../svm/mnist_svm.ipynb).  We rescale the input `X` from values from -1 to 1 as this works better for the neural network."
   ]
  },
  {
   "cell_type": "code",
   "execution_count": 3,
   "metadata": {
    "collapsed": true
   },
   "outputs": [],
   "source": [
    "from sklearn.datasets import fetch_mldata\n",
    "mnist = fetch_mldata(\"MNIST original\")\n",
    "\n",
    "X = 2*(mnist.data/255-0.5)   # Change X from -1 to 1\n",
    "y = mnist.target"
   ]
  },
  {
   "cell_type": "markdown",
   "metadata": {},
   "source": [
    "We also split the data into traing and test.  A standard split uses 50,000 examples for training and 10,000 for test."
   ]
  },
  {
   "cell_type": "code",
   "execution_count": 4,
   "metadata": {
    "collapsed": true
   },
   "outputs": [],
   "source": [
    "from sklearn.model_selection import train_test_split\n",
    "ntr = 50000\n",
    "nts = 10000\n",
    "\n",
    "Xtr, Xts, ytr, yts = train_test_split(X,y,train_size=ntr, test_size=nts,shuffle=True)"
   ]
  },
  {
   "cell_type": "markdown",
   "metadata": {},
   "source": [
    "We will also use the `plt_digit` function from the [MNIST SVM example](../svm/mnist_svm.ipynb) to display digits."
   ]
  },
  {
   "cell_type": "code",
   "execution_count": 5,
   "metadata": {},
   "outputs": [
    {
     "data": {
      "image/png": "[encoded data removed]",
      "text/plain": [
       "<matplotlib.figure.Figure at 0x3900075fd0>"
      ]
     },
     "metadata": {},
     "output_type": "display_data"
    }
   ],
   "source": [
    "def plt_digit(x):\n",
    "    nrow = 28\n",
    "    ncol = 28\n",
    "    xsq = x.reshape((nrow,ncol))\n",
    "    plt.imshow(xsq,  cmap='Greys_r')\n",
    "    plt.xticks([])\n",
    "    plt.yticks([])\n",
    "    \n",
    "# Select random digits\n",
    "nplt = 4\n",
    "nsamp = X.shape[0]\n",
    "Iperm = np.random.permutation(nsamp)\n",
    "\n",
    "# Plot the images using the subplot command\n",
    "for i in range(nplt):\n",
    "    ind = Iperm[i]\n",
    "    plt.subplot(1,nplt,i+1)\n",
    "    plt_digit(X[ind,:])"
   ]
  },
  {
   "cell_type": "markdown",
   "metadata": {},
   "source": [
    "## Creating a Simple Neural Network."
   ]
  },
  {
   "cell_type": "markdown",
   "metadata": {},
   "source": [
    "To create the neural network, we first import the appropriate sub-packages."
   ]
  },
  {
   "cell_type": "code",
   "execution_count": 6,
   "metadata": {
    "collapsed": true
   },
   "outputs": [],
   "source": [
    "from keras.models import Model, Sequential\n",
    "from keras.layers import Dense, Activation"
   ]
  },
  {
   "cell_type": "markdown",
   "metadata": {},
   "source": [
    "Next, we clear the session.  As in the [simple neural network example](./synthetic.ipynb), this step is not necessary, but it is good practice as it clears any model layers that you have built before.  "
   ]
  },
  {
   "cell_type": "code",
   "execution_count": 30,
   "metadata": {
    "collapsed": true
   },
   "outputs": [],
   "source": [
    "import keras.backend as K\n",
    "K.clear_session()"
   ]
  },
  {
   "cell_type": "markdown",
   "metadata": {},
   "source": [
    "Now we create a very simple network.  The features are:\n",
    "*  We have one hidden layer with `nh=100` units.  \n",
    "*  One output layer with `nout=10` units, one for each of the 10 possible classes\n",
    "*  The output activation is `softmax`, which is used for multi-class targets"
   ]
  },
  {
   "cell_type": "code",
   "execution_count": 31,
   "metadata": {
    "collapsed": true
   },
   "outputs": [],
   "source": [
    "nin = X.shape[1]  # dimension of input data\n",
    "nh = 100     # number of hidden units\n",
    "nout = int(np.max(y)+1)    # number of outputs = 10 since there are 10 classes\n",
    "model = Sequential()\n",
    "model.add(Dense(nh, input_shape=(nin,), activation='sigmoid', name='hidden'))\n",
    "model.add(Dense(nout, activation='softmax', name='output'))"
   ]
  },
  {
   "cell_type": "markdown",
   "metadata": {},
   "source": [
    "We print the model summary. "
   ]
  },
  {
   "cell_type": "code",
   "execution_count": 32,
   "metadata": {},
   "outputs": [
    {
     "name": "stdout",
     "output_type": "stream",
     "text": [
      "_________________________________________________________________\n",
      "Layer (type)                 Output Shape              Param #   \n",
      "=================================================================\n",
      "hidden (Dense)               (None, 100)               78500     \n",
      "_________________________________________________________________\n",
      "output (Dense)               (None, 10)                1010      \n",
      "=================================================================\n",
      "Total params: 79,510\n",
      "Trainable params: 79,510\n",
      "Non-trainable params: 0\n",
      "_________________________________________________________________\n"
     ]
    }
   ],
   "source": [
    "model.summary()"
   ]
  },
  {
   "cell_type": "markdown",
   "metadata": {},
   "source": [
    "## Training the Network\n",
    "\n",
    "As before, to train the network, we have to select an optimizer and a loss function.  Since this is a multi-class classification problem, we select the `sparse_categorial_crossentropy` loss.  We use the `adam` optimizer as before.  You may want to play with the learning rate `lr`.   We also set the `metrics` that we wish to track during the optimization.  In this case, we select `accuracy` on the training set."
   ]
  },
  {
   "cell_type": "code",
   "execution_count": 33,
   "metadata": {
    "collapsed": true
   },
   "outputs": [],
   "source": [
    "from keras import optimizers\n",
    "\n",
    "opt = optimizers.Adam(lr=0.001) # beta_1=0.9, beta_2=0.999, epsilon=1e-08, decay=0.0)\n",
    "model.compile(optimizer=opt,\n",
    "              loss='sparse_categorical_crossentropy',\n",
    "              metrics=['accuracy'])"
   ]
  },
  {
   "cell_type": "markdown",
   "metadata": {},
   "source": [
    "Keras provides a simple method `fit` to run the optimization.  You simply specify the number of epochs and the batch size, both discussed in class.  In addition, we specify the `validation_data` so that it can print the accuracy on the test data set as it performs the optimization."
   ]
  },
  {
   "cell_type": "code",
   "execution_count": 34,
   "metadata": {},
   "outputs": [
    {
     "name": "stdout",
     "output_type": "stream",
     "text": [
      "Train on 50000 samples, validate on 10000 samples\n",
      "Epoch 1/30\n",
      "50000/50000 [==============================] - 2s 44us/step - loss: 0.5378 - acc: 0.8654 - val_loss: 0.3119 - val_acc: 0.9105\n",
      "Epoch 2/30\n",
      "50000/50000 [==============================] - 2s 41us/step - loss: 0.2681 - acc: 0.9241 - val_loss: 0.2364 - val_acc: 0.9327\n",
      "Epoch 3/30\n",
      "50000/50000 [==============================] - 2s 43us/step - loss: 0.2135 - acc: 0.9394 - val_loss: 0.2015 - val_acc: 0.9404\n",
      "Epoch 4/30\n",
      "50000/50000 [==============================] - 2s 44us/step - loss: 0.1784 - acc: 0.9499 - val_loss: 0.1763 - val_acc: 0.9483\n",
      "Epoch 5/30\n",
      "50000/50000 [==============================] - 2s 49us/step - loss: 0.1541 - acc: 0.9563 - val_loss: 0.1620 - val_acc: 0.9535\n",
      "Epoch 6/30\n",
      "50000/50000 [==============================] - 2s 42us/step - loss: 0.1345 - acc: 0.9619 - val_loss: 0.1531 - val_acc: 0.9556\n",
      "Epoch 7/30\n",
      "50000/50000 [==============================] - 2s 41us/step - loss: 0.1199 - acc: 0.9656 - val_loss: 0.1371 - val_acc: 0.9592\n",
      "Epoch 8/30\n",
      "50000/50000 [==============================] - 2s 42us/step - loss: 0.1058 - acc: 0.9701 - val_loss: 0.1290 - val_acc: 0.9619\n",
      "Epoch 9/30\n",
      "50000/50000 [==============================] - 2s 41us/step - loss: 0.0959 - acc: 0.9735 - val_loss: 0.1285 - val_acc: 0.9612\n",
      "Epoch 10/30\n",
      "50000/50000 [==============================] - 2s 42us/step - loss: 0.0868 - acc: 0.9759 - val_loss: 0.1229 - val_acc: 0.9645\n",
      "Epoch 11/30\n",
      "50000/50000 [==============================] - 2s 40us/step - loss: 0.0794 - acc: 0.9784 - val_loss: 0.1130 - val_acc: 0.9643\n",
      "Epoch 12/30\n",
      "50000/50000 [==============================] - 2s 49us/step - loss: 0.0716 - acc: 0.9807 - val_loss: 0.1106 - val_acc: 0.9670\n",
      "Epoch 13/30\n",
      "50000/50000 [==============================] - 2s 45us/step - loss: 0.0663 - acc: 0.9816 - val_loss: 0.1079 - val_acc: 0.9662\n",
      "Epoch 14/30\n",
      "50000/50000 [==============================] - 2s 43us/step - loss: 0.0620 - acc: 0.9834 - val_loss: 0.1042 - val_acc: 0.9682\n",
      "Epoch 15/30\n",
      "50000/50000 [==============================] - 2s 41us/step - loss: 0.0549 - acc: 0.9856 - val_loss: 0.1014 - val_acc: 0.9689\n",
      "Epoch 16/30\n",
      "50000/50000 [==============================] - 2s 41us/step - loss: 0.0515 - acc: 0.9864 - val_loss: 0.0960 - val_acc: 0.9692\n",
      "Epoch 17/30\n",
      "50000/50000 [==============================] - 2s 41us/step - loss: 0.0469 - acc: 0.9877 - val_loss: 0.0999 - val_acc: 0.9693\n",
      "Epoch 18/30\n",
      "50000/50000 [==============================] - 2s 43us/step - loss: 0.0428 - acc: 0.9896 - val_loss: 0.0969 - val_acc: 0.9698\n",
      "Epoch 19/30\n",
      "50000/50000 [==============================] - 2s 47us/step - loss: 0.0396 - acc: 0.9902 - val_loss: 0.0937 - val_acc: 0.9723\n",
      "Epoch 20/30\n",
      "50000/50000 [==============================] - 2s 46us/step - loss: 0.0365 - acc: 0.9912 - val_loss: 0.0946 - val_acc: 0.9708\n",
      "Epoch 21/30\n",
      "50000/50000 [==============================] - 2s 42us/step - loss: 0.0344 - acc: 0.9915 - val_loss: 0.0941 - val_acc: 0.9709\n",
      "Epoch 22/30\n",
      "50000/50000 [==============================] - 2s 42us/step - loss: 0.0313 - acc: 0.9929 - val_loss: 0.0925 - val_acc: 0.9722\n",
      "Epoch 23/30\n",
      "50000/50000 [==============================] - 2s 42us/step - loss: 0.0291 - acc: 0.9938 - val_loss: 0.0912 - val_acc: 0.9720\n",
      "Epoch 24/30\n",
      "50000/50000 [==============================] - 2s 43us/step - loss: 0.0268 - acc: 0.9943 - val_loss: 0.0942 - val_acc: 0.9711\n",
      "Epoch 25/30\n",
      "50000/50000 [==============================] - 2s 42us/step - loss: 0.0252 - acc: 0.9948 - val_loss: 0.0953 - val_acc: 0.9720\n",
      "Epoch 26/30\n",
      "50000/50000 [==============================] - 2s 44us/step - loss: 0.0234 - acc: 0.9954 - val_loss: 0.0942 - val_acc: 0.9700\n",
      "Epoch 27/30\n",
      "50000/50000 [==============================] - 2s 50us/step - loss: 0.0222 - acc: 0.9954 - val_loss: 0.1062 - val_acc: 0.9678\n",
      "Epoch 28/30\n",
      "50000/50000 [==============================] - 2s 43us/step - loss: 0.0210 - acc: 0.9955 - val_loss: 0.0942 - val_acc: 0.9706\n",
      "Epoch 29/30\n",
      "50000/50000 [==============================] - 2s 42us/step - loss: 0.0176 - acc: 0.9970 - val_loss: 0.1089 - val_acc: 0.9683\n",
      "Epoch 30/30\n",
      "50000/50000 [==============================] - 2s 42us/step - loss: 0.0196 - acc: 0.9961 - val_loss: 0.0956 - val_acc: 0.9713\n"
     ]
    }
   ],
   "source": [
    "hist = model.fit(Xtr, ytr, epochs=30, batch_size=100, validation_data=(Xts,yts))"
   ]
  },
  {
   "cell_type": "markdown",
   "metadata": {},
   "source": [
    "After running the 10 epochs, you should obtain a test accuracy of around 96.5%.  If we run it for another a few epochs, we can get slightly higher results.  We can just run the `model.fit` command again, and it will start where it left off. You should get a little more than 97% accuracy. "
   ]
  },
  {
   "cell_type": "markdown",
   "metadata": {},
   "source": [
    "Plot the training accuracy and validation accuracy as a function of epoches.\n",
    "We see that the training accuracy keeps growing to 1, while the validation accuracy saturates to a value around 0.97"
   ]
  },
  {
   "cell_type": "code",
   "execution_count": 37,
   "metadata": {},
   "outputs": [
    {
     "data": {
      "text/plain": [
       "<matplotlib.legend.Legend at 0x3919773d68>"
      ]
     },
     "execution_count": 37,
     "metadata": {},
     "output_type": "execute_result"
    },
    {
     "data": {
      "image/png": "[encoded data removed]",
      "text/plain": [
       "<matplotlib.figure.Figure at 0x39196f1588>"
      ]
     },
     "metadata": {},
     "output_type": "display_data"
    }
   ],
   "source": [
    "tr_accuracy = hist.history['acc']\n",
    "val_accuracy = hist.history['val_acc']\n",
    "\n",
    "plt.plot(tr_accuracy)\n",
    "plt.plot(val_accuracy)\n",
    "plt.grid()\n",
    "plt.xlabel('epochs')\n",
    "plt.ylabel('accuarcy')\n",
    "plt.legend(['training accuracy', 'validation accuracy'])"
   ]
  },
  {
   "cell_type": "markdown",
   "metadata": {},
   "source": [
    "## Saving and Loading the model\n",
    "\n",
    "Since the training takes a long time, it is useful to save the results.  See the [keras page](https://keras.io/getting-started/faq/#how-can-i-save-a-keras-model) for many more useful saving and loading features."
   ]
  },
  {
   "cell_type": "code",
   "execution_count": 13,
   "metadata": {
    "collapsed": true
   },
   "outputs": [],
   "source": [
    "model.save(\"mnist_mod.h5\")"
   ]
  },
  {
   "cell_type": "markdown",
   "metadata": {},
   "source": [
    "We can now reload the model with the `load_model` command."
   ]
  },
  {
   "cell_type": "code",
   "execution_count": 14,
   "metadata": {},
   "outputs": [
    {
     "name": "stdout",
     "output_type": "stream",
     "text": [
      "_________________________________________________________________\n",
      "Layer (type)                 Output Shape              Param #   \n",
      "=================================================================\n",
      "hidden (Dense)               (None, 100)               78500     \n",
      "_________________________________________________________________\n",
      "output (Dense)               (None, 10)                1010      \n",
      "=================================================================\n",
      "Total params: 79,510\n",
      "Trainable params: 79,510\n",
      "Non-trainable params: 0\n",
      "_________________________________________________________________\n"
     ]
    }
   ],
   "source": [
    "from keras.models import load_model\n",
    "\n",
    "model = load_model(\"mnist_mod.h5\")\n",
    "model.summary()"
   ]
  },
  {
   "cell_type": "markdown",
   "metadata": {},
   "source": [
    "We can test the performance on the test data set."
   ]
  },
  {
   "cell_type": "code",
   "execution_count": 17,
   "metadata": {},
   "outputs": [
    {
     "name": "stdout",
     "output_type": "stream",
     "text": [
      "10000/10000 [==============================] - 1s 60us/step\n",
      "accuracy = 0.970600\n"
     ]
    }
   ],
   "source": [
    "score, acc = model.evaluate(Xts, yts, verbose=1)\n",
    "print(\"accuracy = %f\" % acc)"
   ]
  },
  {
   "cell_type": "code",
   "execution_count": null,
   "metadata": {
    "collapsed": true
   },
   "outputs": [],
   "source": []
  }
 ],
 "metadata": {
  "anaconda-cloud": {},
  "kernelspec": {
   "display_name": "Python 3",
   "language": "python",
   "name": "python3"
  },
  "language_info": {
   "codemirror_mode": {
    "name": "ipython",
    "version": 3
   },
   "file_extension": ".py",
   "mimetype": "text/x-python",
   "name": "python",
   "nbconvert_exporter": "python",
   "pygments_lexer": "ipython3",
   "version": "3.6.3"
  }
 },
 "nbformat": 4,
 "nbformat_minor": 1
}
