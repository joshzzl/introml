{
 "cells": [
  {
   "cell_type": "markdown",
   "metadata": {},
   "source": [
    "Author: Zhili Zhang\n",
    "\n",
    "NetID: zz2382"
   ]
  },
  {
   "cell_type": "markdown",
   "metadata": {},
   "source": [
    "## Question 1"
   ]
  },
  {
   "cell_type": "markdown",
   "metadata": {},
   "source": [
    "#### (a)"
   ]
  },
  {
   "cell_type": "code",
   "execution_count": null,
   "metadata": {},
   "outputs": [],
   "source": [
    "# Pre-implemented r2 score function\n",
    "def r2(y_pred, y_true):\n",
    "    return 1-np.mean((y_pred-y_true)**2)/(np.std(y_true)**2)\n",
    "\n",
    "Xtr, Xts, ytr, yts = train_test_split(X,y, test_size=0.33, shuffle=True)\n"
   ]
  },
  {
   "cell_type": "code",
   "execution_count": null,
   "metadata": {},
   "outputs": [],
   "source": [
    "# (a):\n",
    "n = Xtr.shape[1]\n",
    "scores = []\n",
    "\n",
    "for i in range(n):\n",
    "    model = LinearRegression()\n",
    "    model.fit(Xtr[:,i], ytr)\n",
    "    yts_pred = model.predict(Xts[:,i])\n",
    "    scores.append(r2(yts_pred, yts))\n",
    "optimal = scores.index(max(scores))\n",
    "print(optimal)"
   ]
  },
  {
   "cell_type": "markdown",
   "metadata": {},
   "source": [
    "#### (b)"
   ]
  },
  {
   "cell_type": "code",
   "execution_count": null,
   "metadata": {},
   "outputs": [],
   "source": [
    "# (b)\n",
    "n = Xtr.shape[1]\n",
    "scores = []\n",
    "# iterate i and j and find all combinations with i!=j\n",
    "tuples = [[i,j] for i in range(n) for j in range(n) if i<j]\n",
    "\n",
    "for tup in tuples:\n",
    "    model = LinearRegression()\n",
    "    model.fit(Xtr[:,tup], ytr)\n",
    "    yts_pred = model.predict(Xts[:,tup])\n",
    "    scores.append(r2(yts_pred, yts))\n",
    "optimal_idx = scores.index(max(scores))\n",
    "print(tuples[optimal_idx])"
   ]
  },
  {
   "cell_type": "markdown",
   "metadata": {},
   "source": [
    "#### (c)\n",
    "You will need the \"combination k of p\" = $C(p, k)$:\n",
    "\n",
    "$$ C(p,k) = \\frac{p!}{k!(p-k)!}$$\n",
    "\n",
    "In case of $k=10$ and $p=1000$:\n",
    "$$ C(p,k) = \\frac{p!}{k!(p-k)!} = \\frac{1000!}{10!990!} \\approx 2.634\\times 10^{23}$$"
   ]
  },
  {
   "cell_type": "markdown",
   "metadata": {},
   "source": [
    "## Question 2"
   ]
  },
  {
   "cell_type": "markdown",
   "metadata": {},
   "source": [
    "#### (a)\n",
    "Ridge regression (L2 regularizer). Since all parameters vectors $w$ should be considered, L2 tries to keep all coefficients small and does not select from features.\n",
    "\n",
    "#### (b)\n",
    "Since negative values of $w_j$ are unlikely, it is unlikely that two correlated features with large positive and negative coefficients respectively would cancel each other. Then L1 norm would be a better choice if feature selection is a desired target. Otherwise, L2 norm is a better choice.\n",
    "\n",
    "#### (c)\n",
    "If $w_j$ has an insignificant local change across $j$, then $w_j$ is more likely of normal distribution/guassian distribution. With this assumption, choosing Ridge Regression (L2 norm) would be better in regularizing the model.\n",
    "\n",
    "#### (d)\n",
    "If for most $j$, $w_j=w_{j-1}$, then we could expect $w_j$ with equal values for many closed '$j$'s. Then the values of $w_j$ are more centralized, which is closer to the Laplace distribution. With this assumption, choosing Lasso Regression (L1) would be better."
   ]
  },
  {
   "cell_type": "markdown",
   "metadata": {},
   "source": [
    "## Question 4"
   ]
  },
  {
   "cell_type": "code",
   "execution_count": null,
   "metadata": {},
   "outputs": [],
   "source": [
    "import numpy as np\n",
    "\n",
    "# calculate mean and std for x and y train\n",
    "x_mean = np.mean(Xtr)\n",
    "x_std = np.std(Xtr)\n",
    "y_mean = np.mean(ytr)\n",
    "y_std = np.std(ytr)\n",
    "\n",
    "# apply standardization to both train and test sets\n",
    "Xtr_norm = np.array([(x-x_mean)/x_std for x in Xtr])\n",
    "Xts_norm = np.array([(x-x_mean)/x_std for x in Xts])\n",
    "ytr_norm = np.array([(y-y_mean)/y_std for y in ytr])\n",
    "yts_norm = np.array([(y-y_mean)/y_std for y in yts])\n",
    "\n",
    "# fit and predict\n",
    "model = SomeModel()\n",
    "model.fit(Xtr_norm, ytr_norm)\n",
    "yhat = model.predict(Xts_norm)\n",
    "\n",
    "# calculate rss for test data\n",
    "rss_ts = np.mean((yhat-yts_norm)**2)/(np.std(yts_norm)**2)\n",
    "print(\"RSS for test data: %.2f\" % rss_ts)"
   ]
  },
  {
   "cell_type": "markdown",
   "metadata": {},
   "source": [
    "## Question 5"
   ]
  },
  {
   "cell_type": "code",
   "execution_count": null,
   "metadata": {},
   "outputs": [],
   "source": [
    "import math\n",
    "p = 100\n",
    "alphas = np.linspace(a,b,p)\n",
    "\n",
    "# [-x]*p becomes a (p*1) vector\n",
    "# [-x]*p*alphas becomes [-a1x, -a2x, ..., -apx]\n",
    "xtr_alpha = np.array([ [-x]*p*alphas for x in xtr ])\n",
    "xts_alpha = np.array([ [-x]*p*alphas for x in xts ])\n",
    "\n",
    "# transform x_alpha by taking exp for every entry\n",
    "xtr_transform = np.array([[math.exp(x) for x in xi] \n",
    "                          for xi in xtr_alpha])\n",
    "xts_transform = np.array([[math.exp(x) for x in xi] \n",
    "                          for xi in xts_alpha])\n",
    "\n",
    "model = Lasso(lam=lam)\n",
    "beta = model.fit(xtr_transform, ytr)\n",
    "yhat = model.predict(xts_transform)\n",
    "# calculate rss\n",
    "err = np.mean((yhat-yts)**2)/(np.std(yts)**2)\n",
    "k = 3\n",
    "k_indices = np.argsort(beta)[-k:]\n",
    "print(\"Corresponding alpha_j's: \", alphas[k_indices])\n",
    "print(\"Corresponding beta_j's: \", beta[k_indices])"
   ]
  }
 ],
 "metadata": {
  "kernelspec": {
   "display_name": "Python 3",
   "language": "python",
   "name": "python3"
  },
  "language_info": {
   "codemirror_mode": {
    "name": "ipython",
    "version": 3
   },
   "file_extension": ".py",
   "mimetype": "text/x-python",
   "name": "python",
   "nbconvert_exporter": "python",
   "pygments_lexer": "ipython3",
   "version": "3.6.8"
  }
 },
 "nbformat": 4,
 "nbformat_minor": 2
}
