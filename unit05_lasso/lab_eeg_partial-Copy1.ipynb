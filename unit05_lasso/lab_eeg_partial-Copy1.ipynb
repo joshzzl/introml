{
 "cells": [
  {
   "cell_type": "markdown",
   "metadata": {},
   "source": [
    "# Lab:  Source Localization for EEG\n",
    "\n",
    "EEG or [Electroencephalography](https://en.wikipedia.org/wiki/Electroencephalography) is a powerful tool for neuroscientists in understanding brain activity.  In EEG, a patient wears a headset with electrodes that measures voltages at a number of points on the scalp.  These voltages arise from ionic currents within the brain.  A common *inverse problem* is to estimate the which parts of the brain caused the measured response.  Source localization is useful in understanding which parts of the brain are involved in certain tasks.  A key challenge in this inverse problem is that the number of unknowns (possible locations in the brain) is much larger than the number of measurements.  In this lab, we will use LASSO regression on a real EEG dataset to overcome this problem and determine the brain region that is active under an auditory stimulus.\n",
    "\n",
    "In addition to the concepts in the [prostate LASSO demo](./demo_prostate.ipynb) you will learn to:\n",
    "* Represent responses of multi-channel time-series data, such as EEG, using linear models\n",
    "* Perform LASSO and Ridge regression\n",
    "* Select the regularization level via cross-validation\n",
    "* Visually compare the sparsity between the solutions\n",
    "\n",
    "We first download standard packages."
   ]
  },
  {
   "cell_type": "code",
   "execution_count": 56,
   "metadata": {},
   "outputs": [],
   "source": [
    "import numpy as np\n",
    "import matplotlib.pyplot as plt\n",
    "import pickle\n",
    "\n",
    "from sklearn.linear_model import Lasso, Ridge, ElasticNet\n",
    "from sklearn.metrics import r2_score\n",
    "from sklearn.model_selection import train_test_split"
   ]
  },
  {
   "cell_type": "markdown",
   "metadata": {},
   "source": [
    "## Load the Data\n",
    "\n",
    "The data in this lab is taken from one of the sample datasets in the [MNE website](https://martinos.org/mne/stable/index.html). The sample data is a recording from one subject who experienced some auditory stimulus on the left ear.    \n",
    "\n",
    "The raw data is very large (`1.5G`) and also requires that you install the `mne` python package. To make this lab easier, I have extracted and processed a small section of the data. The following command will download a `pickle` file `eeg_dat.p` to your local machine.  If you do want to create the data yourself, the program to create the data is in this directory in the github repository."
   ]
  },
  {
   "cell_type": "code",
   "execution_count": 57,
   "metadata": {},
   "outputs": [
    {
     "name": "stdout",
     "output_type": "stream",
     "text": [
      "File eeg_dat.p is already downloaded\n"
     ]
    }
   ],
   "source": [
    "fn_src ='https://drive.google.com/uc?export=download&id=1RzQpKONOcXSMxH2ZzOI4iVMiTgD6ttSl'\n",
    "fn_dst ='eeg_dat.p'\n",
    "\n",
    "import os\n",
    "from six.moves import urllib\n",
    "\n",
    "if os.path.isfile(fn_dst):\n",
    "    print('File %s is already downloaded' % fn_dst)\n",
    "else:        \n",
    "    print('Fetching file %s [53MB].  This may take a minute..' % fn_dst)\n",
    "    urllib.request.urlretrieve(fn_src, fn_dst)\n",
    "    print('File %s downloaded' % fn_dst)"
   ]
  },
  {
   "cell_type": "markdown",
   "metadata": {},
   "source": [
    "Now run the following command which will get the data from the `pickle` file."
   ]
  },
  {
   "cell_type": "code",
   "execution_count": 58,
   "metadata": {},
   "outputs": [
    {
     "name": "stdout",
     "output_type": "stream",
     "text": [
      "(305, 22494) (305, 85)\n"
     ]
    }
   ],
   "source": [
    "import pickle\n",
    "fn = 'eeg_dat.p'\n",
    "with open(fn, 'rb') as fp:\n",
    "    [X,Y] = pickle.load(fp)\n",
    "\n",
    "print(X.shape, Y.shape)"
   ]
  },
  {
   "cell_type": "markdown",
   "metadata": {},
   "source": [
    "To understand the data, there are three key variables:\n",
    "* `nt`    = number of time steps that we measure data\n",
    "* `nchan` = number of channels (i.e. electrodes) measured in each time step\n",
    "* `ncur`  = number of currents in the brain that we want to estimate.  \n",
    "\n",
    "Each current comes from one brain region (called a *voxel*) in either the `x`, `y` or `z` direction.  So,\n",
    "\n",
    "    nvoxels = ncur / 3\n",
    "    \n",
    "The components of the `X` and `Y` matrices are:\n",
    "*  `Y[i,k]` = electric field measurement on channel `i` at time `k`\n",
    "*  `X[i,j]` = sensitivity of channel `i` to current `j`.\n",
    "\n",
    "Using `X.shape` and `Y.shape` compute and print `nt`, `nchan`, `ncur` and `nvoxels`."
   ]
  },
  {
   "cell_type": "code",
   "execution_count": 59,
   "metadata": {},
   "outputs": [
    {
     "name": "stdout",
     "output_type": "stream",
     "text": [
      "nt: 85; ncur: 22494; nchan: 305, nvoxels: 7498.000000\n"
     ]
    }
   ],
   "source": [
    "# TODO\n",
    "nt = Y.shape[1]\n",
    "ncur = X.shape[1]\n",
    "nchan = X.shape[0]\n",
    "nvoxels = ncur / 3\n",
    "print(\"nt: %d; ncur: %d; nchan: %d, nvoxels: %f\" % (nt, ncur, nchan, nvoxels))"
   ]
  },
  {
   "cell_type": "code",
   "execution_count": 60,
   "metadata": {},
   "outputs": [],
   "source": [
    "import sklearn.preprocessing\n",
    "X = sklearn.preprocessing.scale(X)\n",
    "Y = sklearn.preprocessing.scale(Y)\n"
   ]
  },
  {
   "cell_type": "markdown",
   "metadata": {},
   "source": [
    "## Ridge Regression\n",
    "\n",
    "Our goal is to estimate the currents in the brain from the measurements `Y`.  One simple linear model is:\n",
    "\n",
    "$$ Y[i,k]  = \\sum_j X[i,j]*W[j,k]+ b[k] $$\n",
    "\n",
    "where `W[j,k]` is the value of current `j` at time `k` and `b[k]` is a bias.  We can solve for the current matrix `W` via linear regression.  \n",
    "\n",
    "Howeever, there is a problem:\n",
    "*  There are `nt x ncur` unknowns in `W`\n",
    "*  There are only `nt x nchan` measurements in `Y`.\n",
    "\n",
    "In this problem, we have:\n",
    "\n",
    "    number of measurements  << number of unknowns\n",
    "    \n",
    "We need to use regularization in these circumstances.  We first try Ridge regression.\n",
    "\n",
    "First split the data into training and test.  Use the `train_test_split` function with `test_size=0.33`."
   ]
  },
  {
   "cell_type": "code",
   "execution_count": 61,
   "metadata": {},
   "outputs": [],
   "source": [
    "# TODO\n",
    "Xtr,Xts,Ytr,Yts = train_test_split(X, Y, test_size=0.33, random_state=0) "
   ]
  },
  {
   "cell_type": "markdown",
   "metadata": {},
   "source": [
    "Use the `Ridge` regression object in `sklearn` to fit the model on the training data.  Use a regularization, `alpha=1`."
   ]
  },
  {
   "cell_type": "code",
   "execution_count": 62,
   "metadata": {},
   "outputs": [
    {
     "data": {
      "text/plain": [
       "Ridge(alpha=1, copy_X=True, fit_intercept=True, max_iter=None,\n",
       "   normalize=False, random_state=None, solver='auto', tol=0.001)"
      ]
     },
     "execution_count": 62,
     "metadata": {},
     "output_type": "execute_result"
    }
   ],
   "source": [
    "# TODO\n",
    "regr = Ridge(alpha=1)\n",
    "regr.fit(Xtr, Ytr)"
   ]
  },
  {
   "cell_type": "markdown",
   "metadata": {},
   "source": [
    "Predict the values `Y` on both the training and test data.  Use the `r2_score` method to measure the `R^2` value on both the training and test.  You will see that `R^2` value is large for the training data, it is very low for the test data.  This suggest that even with regularization, the model is over-fitting the data."
   ]
  },
  {
   "cell_type": "code",
   "execution_count": 63,
   "metadata": {},
   "outputs": [
    {
     "name": "stdout",
     "output_type": "stream",
     "text": [
      "0.9934804968721486 -2.449914807957532\n"
     ]
    }
   ],
   "source": [
    "# TODO\n",
    "ytr_pred = regr.predict(Xtr)\n",
    "yts_pred = regr.predict(Xts)\n",
    "\n",
    "rsq_tr = r2_score(Ytr, ytr_pred)\n",
    "rsq_ts = r2_score(Yts, yts_pred)\n",
    "print(rsq_tr, rsq_ts)"
   ]
  },
  {
   "cell_type": "markdown",
   "metadata": {},
   "source": [
    "Next, try to see if we can get a better `R^2` score using different values of `alpha`.  Use cross-validation to measure the test `R^2` for 20 `alpha` values logarithmically spaced from `10^{-2}` to `10^{2}` (use `np.logspace()`).  You can use regular cross-validation.  You do not need to do `K`-fold."
   ]
  },
  {
   "cell_type": "code",
   "execution_count": 64,
   "metadata": {},
   "outputs": [],
   "source": [
    "# TODO\n",
    "nalpha = 20\n",
    "alphas = np.logspace(-2, 2, num=nalpha)\n",
    "powers = np.linspace(-2, 2, num=nalpha)\n",
    "#print(alphas)\n",
    "\n",
    "r2_train = []\n",
    "r2_test = []\n",
    "\n",
    "for a in alphas:\n",
    "    model = Ridge(alpha=a)\n",
    "    model.fit(Xtr, Ytr)\n",
    "    \n",
    "    ytr_pred = model.predict(Xtr)\n",
    "    yts_pred = model.predict(Xts)\n",
    "    rsq_tr_d = r2_score(Ytr, ytr_pred)\n",
    "    rsq_ts_d = r2_score(Yts, yts_pred)\n",
    "    \n",
    "    r2_train.append(rsq_tr_d)\n",
    "    r2_test.append(rsq_ts_d)\n",
    "\n"
   ]
  },
  {
   "cell_type": "markdown",
   "metadata": {},
   "source": [
    "Plot the test `R^2` vs. `alpha`.  And print the maximum test `R^2`.  You should see that the maximum test `R^2` is still not very high."
   ]
  },
  {
   "cell_type": "code",
   "execution_count": 65,
   "metadata": {},
   "outputs": [
    {
     "name": "stdout",
     "output_type": "stream",
     "text": [
      "Maximum R2: -0.27; alpha: 100.00 = 10 ^ ( 2.00)\n"
     ]
    },
    {
     "data": {
      "image/png": "[encoded data removed]",
      "text/plain": [
       "<Figure size 432x288 with 1 Axes>"
      ]
     },
     "metadata": {
      "needs_background": "light"
     },
     "output_type": "display_data"
    },
    {
     "data": {
      "text/plain": [
       "<matplotlib.legend.Legend at 0x23dc5d5b5f8>"
      ]
     },
     "execution_count": 65,
     "metadata": {},
     "output_type": "execute_result"
    },
    {
     "data": {
      "image/png": "[encoded data removed]",
      "text/plain": [
       "<Figure size 432x288 with 1 Axes>"
      ]
     },
     "metadata": {
      "needs_background": "light"
     },
     "output_type": "display_data"
    }
   ],
   "source": [
    "# TODO\n",
    "idx = r2_test.index(max(r2_test))\n",
    "print('Maximum R2: %.2f; alpha: %.2f = 10 ^ ( %.2f)' % (r2_test[idx],alphas[idx],powers[idx] ))\n",
    "\n",
    "plt.plot(alphas, r2_train, 'bo-')\n",
    "plt.plot(alphas, r2_test, 'go-')\n",
    "plt.xlabel('Model order - alpha')\n",
    "plt.ylabel('R2 score')\n",
    "plt.grid()\n",
    "plt.legend(['training', 'test'], loc='upper right')\n",
    "\n",
    "plt.show()\n",
    "\n",
    "plt.plot(powers, r2_train, 'bo-')\n",
    "plt.plot(powers, r2_test, 'go-')\n",
    "plt.xlabel('Model order - powers')\n",
    "plt.ylabel('R2 score')\n",
    "plt.grid()\n",
    "plt.legend(['training', 'test'], loc='upper right')"
   ]
  },
  {
   "cell_type": "markdown",
   "metadata": {},
   "source": [
    "Now, let's take a look at the solution. \n",
    "\n",
    "* Find the optimal regularization `alpha` from the cross-validation\n",
    "* Re-fit the model at the optimal `alpha`\n",
    "* Get the current matrix `W` from the coefficients in the linear model.  These are stored in `regr.coef_`.  You may need a transpose\n",
    "* For each current `j` compute `Wrms[j] =  sqrt( sum_k W[j,k]**2 )` which is root mean squared current.\n",
    "\n",
    "You will see that the vector `Wrms` is not sparse.  This means that the solution that is found with Ridge regression finds currents in all locations."
   ]
  },
  {
   "cell_type": "code",
   "execution_count": 66,
   "metadata": {},
   "outputs": [
    {
     "name": "stdout",
     "output_type": "stream",
     "text": [
      "[0.04019025951954749, 0.035436371629058876, 0.033660019625125694, 0.025340592333142196, 0.03490471286264145, 0.04169352461661374, 0.03199337203784628, 0.051322405660117934, 0.049891535199497114, 0.036354730003431444, 0.025167491646729122, 0.021373014544838895, 0.016817041508015523, 0.01999534435461966, 0.035081441484284145, 0.027348616982433314, 0.01820559005577311, 0.015812249807148182, 0.031123840460192325, 0.026476887091378496, 0.02472873288059782, 0.032526858318340436, 0.022881577969031335, 0.022725341212534587, 0.029710511056096622]\n"
     ]
    }
   ],
   "source": [
    "# TODO\n",
    "op_alpha = alphas[idx]\n",
    "regr = Ridge(alpha=op_alpha)\n",
    "regr.fit(Xtr, Ytr)\n",
    "W = regr.coef_.T\n",
    "#print(W.shape)\n",
    "wrms = [ sum(W[j] * W[j])**(0.5) for j in range(W.shape[0])]\n",
    "\n",
    "print(wrms[:25])"
   ]
  },
  {
   "cell_type": "markdown",
   "metadata": {},
   "source": [
    "## LASSO Regression\n",
    "\n",
    "We can improve the estimate by imposing sparsity.  Biologically, we know that only a limited number of brain regions should be involved in the reponse to a particular stimuli.  As a result, we would expect that the current matrix `W[j,k]` to be zero for most values `j,k`.  We can impose this constraint using LASSO regularization.\n",
    "\n",
    "Re-fit the training data using the `Lasso` model with `alpha=1e-3`.  Also set `max_iter=100` and `tol=0.01`.  The LASSO solver is much slower, so this make take a minute."
   ]
  },
  {
   "cell_type": "code",
   "execution_count": 67,
   "metadata": {},
   "outputs": [
    {
     "name": "stderr",
     "output_type": "stream",
     "text": [
      "C:\\Users\\zzlbr\\AppData\\Roaming\\Python\\Python36\\site-packages\\sklearn\\linear_model\\coordinate_descent.py:492: ConvergenceWarning: Objective did not converge. You might want to increase the number of iterations. Fitting data with very small alpha may cause precision problems.\n",
      "  ConvergenceWarning)\n"
     ]
    },
    {
     "data": {
      "text/plain": [
       "Lasso(alpha=0.001, copy_X=True, fit_intercept=True, max_iter=100,\n",
       "   normalize=False, positive=False, precompute=False, random_state=None,\n",
       "   selection='cyclic', tol=0.01, warm_start=False)"
      ]
     },
     "execution_count": 67,
     "metadata": {},
     "output_type": "execute_result"
    }
   ],
   "source": [
    "# TODO\n",
    "lasso = Lasso(alpha=1e-3, max_iter=100, tol=0.01)\n",
    "lasso.fit(Xtr, Ytr)"
   ]
  },
  {
   "cell_type": "markdown",
   "metadata": {},
   "source": [
    "Now, test the model on the test data and measure the `R^2` value.  You should get a much better fit than with the Ridge regression solution.  "
   ]
  },
  {
   "cell_type": "code",
   "execution_count": 68,
   "metadata": {},
   "outputs": [
    {
     "name": "stdout",
     "output_type": "stream",
     "text": [
      "R2 score for Lasso with alpha 0.0010: -0.76\n"
     ]
    }
   ],
   "source": [
    "# TODO\n",
    "yts_pred = lasso.predict(Xts)\n",
    "r2_ts = r2_score(Yts, yts_pred)\n",
    "print(\"R2 score for Lasso with alpha %.4f: %.2f\" % (1e-3,r2_ts))"
   ]
  },
  {
   "cell_type": "markdown",
   "metadata": {},
   "source": [
    "We can now search for the optimal `alpha`.  Use cross-validation to find the `alpha` logarithically space between `alpha=10^{-3}` and `alpha=10^{-4}`.  Each fit takes some time, so use only 5 values of `alpha`. Also for each `alpha` store the current matrix.  This way, you will not have to re-fit the model."
   ]
  },
  {
   "cell_type": "code",
   "execution_count": 69,
   "metadata": {},
   "outputs": [
    {
     "name": "stderr",
     "output_type": "stream",
     "text": [
      "C:\\Users\\zzlbr\\AppData\\Roaming\\Python\\Python36\\site-packages\\sklearn\\linear_model\\coordinate_descent.py:492: ConvergenceWarning: Objective did not converge. You might want to increase the number of iterations. Fitting data with very small alpha may cause precision problems.\n",
      "  ConvergenceWarning)\n",
      "C:\\Users\\zzlbr\\AppData\\Roaming\\Python\\Python36\\site-packages\\sklearn\\linear_model\\coordinate_descent.py:492: ConvergenceWarning: Objective did not converge. You might want to increase the number of iterations. Fitting data with very small alpha may cause precision problems.\n",
      "  ConvergenceWarning)\n",
      "C:\\Users\\zzlbr\\AppData\\Roaming\\Python\\Python36\\site-packages\\sklearn\\linear_model\\coordinate_descent.py:492: ConvergenceWarning: Objective did not converge. You might want to increase the number of iterations. Fitting data with very small alpha may cause precision problems.\n",
      "  ConvergenceWarning)\n",
      "C:\\Users\\zzlbr\\AppData\\Roaming\\Python\\Python36\\site-packages\\sklearn\\linear_model\\coordinate_descent.py:492: ConvergenceWarning: Objective did not converge. You might want to increase the number of iterations. Fitting data with very small alpha may cause precision problems.\n",
      "  ConvergenceWarning)\n",
      "C:\\Users\\zzlbr\\AppData\\Roaming\\Python\\Python36\\site-packages\\sklearn\\linear_model\\coordinate_descent.py:492: ConvergenceWarning: Objective did not converge. You might want to increase the number of iterations. Fitting data with very small alpha may cause precision problems.\n",
      "  ConvergenceWarning)\n"
     ]
    },
    {
     "name": "stdout",
     "output_type": "stream",
     "text": [
      "Maximum R2 with Lasso: -0.760; alpha: 0.00100 = 10 ^ ( -3.00)\n"
     ]
    }
   ],
   "source": [
    "nalpha = 5\n",
    "alphas = np.logspace(-4, -3, num=nalpha)\n",
    "powers = np.linspace(-4, -3, num=nalpha)\n",
    "\n",
    "r2_train_lasso = []\n",
    "r2_test_lasso = []\n",
    "w_matrices = []\n",
    "\n",
    "for a in alphas:\n",
    "    lasso = Lasso(alpha=a, max_iter=100, tol=0.01)\n",
    "    lasso.fit(Xtr, Ytr)\n",
    "    \n",
    "    ytr_pred = lasso.predict(Xtr)\n",
    "    yts_pred = lasso.predict(Xts)\n",
    "    rsq_tr = r2_score(Ytr, ytr_pred)\n",
    "    rsq_ts = r2_score(Yts, yts_pred)\n",
    "    \n",
    "    r2_train_lasso.append(rsq_tr)\n",
    "    r2_test_lasso.append(rsq_ts)\n",
    "    w_matrices.append(lasso.coef_.T)\n",
    "    \n",
    "idx_lasso = r2_test_lasso.index(max(r2_test_lasso))\n",
    "print('Maximum R2 with Lasso: %.3f; alpha: %.5f = 10 ^ ( %.2f)' % \n",
    "      (r2_test_lasso[idx_lasso],alphas[idx_lasso],powers[idx_lasso] ))\n",
    "\n"
   ]
  },
  {
   "cell_type": "markdown",
   "metadata": {},
   "source": [
    "Plot the `r^2` value vs. `alpha`.  Print the optimal `r^2`.  You should see it is much higher than with the best Ridge Regression case."
   ]
  },
  {
   "cell_type": "code",
   "execution_count": 70,
   "metadata": {},
   "outputs": [],
   "source": [
    "# TODO"
   ]
  },
  {
   "cell_type": "code",
   "execution_count": 71,
   "metadata": {},
   "outputs": [
    {
     "data": {
      "image/png": "[encoded data removed]",
      "text/plain": [
       "<Figure size 432x288 with 1 Axes>"
      ]
     },
     "metadata": {
      "needs_background": "light"
     },
     "output_type": "display_data"
    },
    {
     "data": {
      "text/plain": [
       "<matplotlib.legend.Legend at 0x23dc6d31278>"
      ]
     },
     "execution_count": 71,
     "metadata": {},
     "output_type": "execute_result"
    },
    {
     "data": {
      "image/png": "[encoded data removed]",
      "text/plain": [
       "<Figure size 432x288 with 1 Axes>"
      ]
     },
     "metadata": {
      "needs_background": "light"
     },
     "output_type": "display_data"
    }
   ],
   "source": [
    "plt.plot(alphas, r2_train_lasso, 'bo-')\n",
    "plt.plot(alphas, r2_test_lasso, 'go-')\n",
    "plt.plot([alphas[0], alphas[-1]], [r2_test_lasso[idx_lasso],r2_test_lasso[idx_lasso]], 'ro--')\n",
    "plt.xlabel('Model order - alpha')\n",
    "plt.ylabel('R2 score with Lasso')\n",
    "plt.grid(True)\n",
    "plt.legend(['training', 'test', 'optimal'], loc='upper right')\n",
    "\n",
    "plt.show()\n",
    "\n",
    "plt.plot(powers, r2_train_lasso, 'bo-')\n",
    "plt.plot(powers, r2_test_lasso, 'go-')\n",
    "plt.plot([powers[0], powers[-1]], [r2_test_lasso[idx_lasso],r2_test_lasso[idx_lasso]], 'ro--')\n",
    "plt.xlabel('Model order - powers')\n",
    "plt.ylabel('R2 score with Lasso')\n",
    "plt.grid(True)\n",
    "plt.legend(['training', 'test', 'optimal'], loc='upper right')"
   ]
  },
  {
   "cell_type": "markdown",
   "metadata": {},
   "source": [
    "Display the current matrix `W` for the optimal `alpha` as you did in the Ridge Regression case.  You will see that is much sparser."
   ]
  },
  {
   "cell_type": "code",
   "execution_count": 72,
   "metadata": {},
   "outputs": [
    {
     "name": "stdout",
     "output_type": "stream",
     "text": [
      "[0.5205490838414754, 1.1232409462737882, 0.09081769790038821, 0.5014317624933858, 0.4220702289215912, 0.9315205633988041, 0.1942443936320432, 0.32746177136881505, 0.08525103399869487, 0.3189042564930966, 0.7109538038761821, 0.015813006491251155, 0.09333537779417146, 0.4103865522771715, 0.440434259838073, 0.0033770980204451745, 0.11278042408045, 0.042096004029978706, 0.1409002353369676, 0.1937396783406829, 0.13301592743217652, 0.022785000014656432, 0.07022262143666157, 0.0011064644280589762, 0.004098875064177216, 0.11474988264605773, 0.024303596579975363, 0.003027137826955634, 0.28849691109448367, 0.0222672880044798, 0.010199907543596417, 0.03223577177487144, 0.012761170409099853, 0.5913314532124951, 0.34242055441153657, 0.19271339564583756, 0.390950619245436, 0.3529492182299598, 0.047104225986145415, 0.3774411496190017, 0.24568053625654265, 0.41996494450556915, 0.22330085822361206, 0.022553946368380588, 0.05345175957614955, 0.2388461758829881, 0.19153301692153882, 0.26124669118159316, 0.048858028000879475, 0.04239873368081117, 0.02604554344746378, 0.00019840630861833028, 0.010060343369341182, 0.009577310623842816, 0.0, 0.00323786468336497, 0.03713988439725723, 0.3940358873987358, 0.5024901835665658, 0.028628284098863838, 0.4867208411467003, 0.34134949687644106, 0.03831201044026506, 0.43352473894373694, 0.4557412644618314, 0.23915686691870242, 0.8440249404947644, 0.6192407908365433, 0.514066108946294, 0.1365320484949422, 0.23430097397347519, 0.12493449176051892, 0.1780210707054428, 0.27000949784350564, 9.36517135005252e-05, 0.33418961498323363, 0.3733719720147932, 0.13218468082962295, 0.10877712297651453, 0.16220017274808488, 0.04417712129523163, 0.4560259902835527, 0.12302092401994058, 0.03741712745007995, 0.1415470558809662, 0.24547948798163743, 0.08831958528433696, 0.07961237602956578, 0.2631250000119686, 0.04833937722124134, 0.33425179841972014, 0.27087222403416533, 0.012910660995927407, 0.046333147170868366, 0.0298823896333578, 0.03458979600527962, 0.13529556025466888, 0.09981990873033052, 0.1317749168338927, 0.15261800129978087]\n"
     ]
    }
   ],
   "source": [
    "# TODO\n",
    "W = w_matrices[idx_lasso]\n",
    "wrms = [ sum(W[j] * W[j])**(0.5) for j in range(W.shape[0])]\n",
    "\n",
    "print(wrms[:100])"
   ]
  },
  {
   "cell_type": "markdown",
   "metadata": {},
   "source": [
    "## More fun\n",
    "\n",
    "If you want to more on this lab:\n",
    "* Install the [MNE python package](https://martinos.org/mne/stable/index.html).  This is an amazing package with many tools for processing EEG data.\n",
    "* In particular, you can use the above results to visualize where in the brain the currents sources are.\n",
    "* You can also improve the fitting with more regularization.  For example, we know that the currents will be non-zero in groups:  If the current is non-zero for one time, it is likely to non-zero for all time.  You can use the Group LASSO method.\n",
    "* You can combine these results to make predictions about what the patient is seeing or hearing or thinking."
   ]
  },
  {
   "cell_type": "code",
   "execution_count": null,
   "metadata": {},
   "outputs": [],
   "source": []
  }
 ],
 "metadata": {
  "kernelspec": {
   "display_name": "Python 3",
   "language": "python",
   "name": "python3"
  },
  "language_info": {
   "codemirror_mode": {
    "name": "ipython",
    "version": 3
   },
   "file_extension": ".py",
   "mimetype": "text/x-python",
   "name": "python",
   "nbconvert_exporter": "python",
   "pygments_lexer": "ipython3",
   "version": "3.6.8"
  }
 },
 "nbformat": 4,
 "nbformat_minor": 2
}
