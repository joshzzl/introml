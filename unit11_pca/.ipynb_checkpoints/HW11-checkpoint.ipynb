{
 "cells": [
  {
   "cell_type": "markdown",
   "metadata": {},
   "source": [
    "## Homework 11 PCA\n",
    "#### Author: Zhili Zhang\n",
    "#### NetID: zz2382"
   ]
  },
  {
   "cell_type": "code",
   "execution_count": 1,
   "metadata": {},
   "outputs": [],
   "source": [
    "import numpy as np\n",
    "np.set_printoptions(suppress=False, precision=6)"
   ]
  },
  {
   "cell_type": "code",
   "execution_count": 2,
   "metadata": {},
   "outputs": [],
   "source": [
    "X = np.array([[3,2,1],\n",
    "     [2,4,5],\n",
    "     [1,2,3],\n",
    "     [0,2,5]])"
   ]
  },
  {
   "cell_type": "code",
   "execution_count": 3,
   "metadata": {},
   "outputs": [
    {
     "name": "stdout",
     "output_type": "stream",
     "text": [
      "[1.5 2.5 3.5]\n"
     ]
    }
   ],
   "source": [
    "# (a)\n",
    "mean = np.mean(X, axis=0)\n",
    "print(mean)"
   ]
  },
  {
   "cell_type": "code",
   "execution_count": 4,
   "metadata": {},
   "outputs": [
    {
     "name": "stdout",
     "output_type": "stream",
     "text": [
      "[[ 1.5 -0.5 -2.5]\n",
      " [ 0.5  1.5  1.5]\n",
      " [-0.5 -0.5 -0.5]\n",
      " [-1.5 -0.5  1.5]]\n"
     ]
    }
   ],
   "source": [
    "# (b)\n",
    "X_bar = X - mean\n",
    "print(X_bar)"
   ]
  },
  {
   "cell_type": "code",
   "execution_count": 5,
   "metadata": {},
   "outputs": [
    {
     "name": "stdout",
     "output_type": "stream",
     "text": [
      "[[ 1.25  0.25 -1.25]\n",
      " [ 0.25  0.75  0.75]\n",
      " [-1.25  0.75  2.75]]\n"
     ]
    }
   ],
   "source": [
    "# (b)\n",
    "Q = 1/4 * np.dot(X_bar.T,X_bar)\n",
    "print(Q)"
   ]
  },
  {
   "cell_type": "code",
   "execution_count": 6,
   "metadata": {},
   "outputs": [
    {
     "name": "stdout",
     "output_type": "stream",
     "text": [
      "[[ 1.25  0.25 -1.25]\n",
      " [ 0.25  0.75  0.75]\n",
      " [-1.25  0.75  2.75]]\n"
     ]
    }
   ],
   "source": [
    "n = X.shape[0]\n",
    "Xm = X - mean[None, :] # broadcasting\n",
    "Q = (1/n)*Xm.T.dot(Xm)\n",
    "print(Q)"
   ]
  },
  {
   "cell_type": "code",
   "execution_count": 7,
   "metadata": {},
   "outputs": [
    {
     "name": "stdout",
     "output_type": "stream",
     "text": [
      "[0.014955 1.17338  3.561665]\n",
      "[[ 0.593635  0.666772 -0.450569]\n",
      " [-0.664722  0.721872  0.192472]\n",
      " [ 0.453589  0.185245  0.871746]]\n"
     ]
    }
   ],
   "source": [
    "lam, V = np.linalg.eigh(Q)\n",
    "print(lam)\n",
    "print(V)"
   ]
  },
  {
   "cell_type": "code",
   "execution_count": 9,
   "metadata": {},
   "outputs": [
    {
     "name": "stdout",
     "output_type": "stream",
     "text": [
      "[[-0.146711  2.038739  0.301776]\n",
      " [-0.955846  0.245126 -1.075544]\n",
      " [ 0.318936  0.470523  0.512264]\n",
      " [ 0.997884 -1.433896  0.305191]\n",
      " [-0.342551  0.590055  1.709024]\n",
      " [ 1.558143 -1.89701   1.242184]]\n"
     ]
    }
   ],
   "source": [
    "Xt = np.random.normal(0,1,(6,3))\n",
    "print(Xt)"
   ]
  },
  {
   "cell_type": "code",
   "execution_count": 10,
   "metadata": {},
   "outputs": [
    {
     "name": "stdout",
     "output_type": "stream",
     "text": [
      "[[-2.121613 -2.023407 -2.134863]\n",
      " [-2.034427 -4.112816 -3.316186]\n",
      " [-0.707287 -2.805986 -2.463015]\n",
      " [ 0.867742 -3.76639  -3.315991]\n",
      " [-0.636588 -2.939067 -1.098691]\n",
      " [ 1.933184 -3.55356  -2.840743]]\n"
     ]
    }
   ],
   "source": [
    "Zt = (Xt - mean[None, :]).dot(V)\n",
    "print(Zt)"
   ]
  },
  {
   "cell_type": "code",
   "execution_count": 11,
   "metadata": {},
   "outputs": [
    {
     "name": "stdout",
     "output_type": "stream",
     "text": [
      "[[-0.146711  2.038739  0.301776]\n",
      " [-0.955846  0.245126 -1.075544]\n",
      " [ 0.318936  0.470523  0.512264]\n",
      " [ 0.997884 -1.433896  0.305191]\n",
      " [-0.342551  0.590055  1.709024]\n",
      " [ 1.558143 -1.89701   1.242184]]\n"
     ]
    }
   ],
   "source": [
    "Xthat = Zt.dot(V.T)+mean[None,:]\n",
    "print(Xthat)"
   ]
  },
  {
   "cell_type": "code",
   "execution_count": 12,
   "metadata": {},
   "outputs": [],
   "source": [
    "Xthat = Zt[:,:2].dot(V[:,:2].T) + mean[None,:]"
   ]
  },
  {
   "cell_type": "code",
   "execution_count": 13,
   "metadata": {},
   "outputs": [
    {
     "data": {
      "text/plain": [
       "array([ 4.557641, 10.99709 ,  6.066442, 10.995798,  1.207123,  8.069821])"
      ]
     },
     "execution_count": 13,
     "metadata": {},
     "output_type": "execute_result"
    }
   ],
   "source": [
    "Xerr = np.sum((Xt - Xthat)**2, axis=1)\n",
    "Xerr"
   ]
  },
  {
   "cell_type": "code",
   "execution_count": 14,
   "metadata": {},
   "outputs": [
    {
     "name": "stdout",
     "output_type": "stream",
     "text": [
      "[ 4.557641 10.99709   6.066442 10.995798  1.207123  8.069821]\n"
     ]
    }
   ],
   "source": [
    "print(Zt[:,2]**2)"
   ]
  },
  {
   "cell_type": "code",
   "execution_count": 8,
   "metadata": {},
   "outputs": [
    {
     "name": "stdout",
     "output_type": "stream",
     "text": [
      "[3.561665 1.17338  0.014955]\n",
      "[[-0.450569 -0.666772 -0.593635]\n",
      " [ 0.192472 -0.721872  0.664722]\n",
      " [ 0.871746 -0.185245 -0.453589]]\n"
     ]
    }
   ],
   "source": [
    "# (c)\n",
    "w, v = np.linalg.eig(Q)\n",
    "print(w)\n",
    "print(v)"
   ]
  },
  {
   "cell_type": "code",
   "execution_count": 85,
   "metadata": {},
   "outputs": [
    {
     "name": "stdout",
     "output_type": "stream",
     "text": [
      "[[-2.951456 -0.17611  -0.088842]\n",
      " [ 1.371043 -1.694062  0.019882]\n",
      " [-0.306825  0.786944  0.191251]\n",
      " [ 1.887237  1.083227 -0.122291]]\n"
     ]
    }
   ],
   "source": [
    "# (d)\n",
    "pca_coef = np.dot(v.T, X_bar.T)\n",
    "print(pca_coef.T)"
   ]
  },
  {
   "cell_type": "code",
   "execution_count": 79,
   "metadata": {},
   "outputs": [
    {
     "name": "stdout",
     "output_type": "stream",
     "text": [
      "[[3.000000e+00 2.000000e+00 1.000000e+00]\n",
      " [2.000000e+00 4.000000e+00 5.000000e+00]\n",
      " [1.000000e+00 2.000000e+00 3.000000e+00]\n",
      " [8.881784e-16 2.000000e+00 5.000000e+00]]\n"
     ]
    }
   ],
   "source": [
    "# (e)\n",
    "X_recon = np.dot(v, pca_coef).T + mean\n",
    "print(X_recon)"
   ]
  },
  {
   "cell_type": "code",
   "execution_count": 81,
   "metadata": {},
   "outputs": [
    {
     "name": "stdout",
     "output_type": "stream",
     "text": [
      "[[ 2.94726   2.059055  0.959702]\n",
      " [ 2.011803  3.986784  5.009018]\n",
      " [ 1.113533  1.872871  3.086749]\n",
      " [-0.072596  2.081289  4.94453 ]]\n"
     ]
    }
   ],
   "source": [
    "# (f)\n",
    "X_approx = np.dot(v[:,:2], pca_coef[:2,:]).T+mean\n",
    "print(X_approx)"
   ]
  },
  {
   "cell_type": "code",
   "execution_count": 82,
   "metadata": {},
   "outputs": [
    {
     "name": "stdout",
     "output_type": "stream",
     "text": [
      "[[2.781486e-03 3.487523e-03 1.623909e-03]\n",
      " [1.393013e-04 1.746608e-04 8.132800e-05]\n",
      " [1.288982e-02 1.616171e-02 7.525441e-03]\n",
      " [5.270204e-03 6.607965e-03 3.076893e-03]]\n"
     ]
    }
   ],
   "source": [
    "# (g)\n",
    "err = (X - X_approx)**2\n",
    "print(err)"
   ]
  },
  {
   "cell_type": "code",
   "execution_count": 98,
   "metadata": {},
   "outputs": [
    {
     "name": "stdout",
     "output_type": "stream",
     "text": [
      "[[ 1.424666e+01  2.692473e-15  1.964440e-15]\n",
      " [ 2.692473e-15  4.693521e+00 -2.266327e-15]\n",
      " [ 1.964440e-15 -2.266327e-15  5.982025e-02]]\n",
      "[[ 3.561665e+00  6.731182e-16  4.911100e-16]\n",
      " [ 6.731182e-16  1.173380e+00 -5.665818e-16]\n",
      " [ 4.911100e-16 -5.665818e-16  1.495506e-02]]\n"
     ]
    }
   ],
   "source": [
    "pca_coef = pca_coef.T\n",
    "mean_coef = np.mean(pca_coef, axis=0)\n",
    "coef_bar = pca_coef - mean_coef\n",
    "cov_coef = np.dot(coef_bar.T, coef_bar)\n",
    "print(np.dot(coef_bar.T, coef_bar))\n",
    "print(np.true_divide(cov_coef, 4))"
   ]
  },
  {
   "cell_type": "code",
   "execution_count": 99,
   "metadata": {},
   "outputs": [
    {
     "name": "stdout",
     "output_type": "stream",
     "text": [
      "[-5.551115e-17  5.551115e-17 -1.387779e-17]\n"
     ]
    }
   ],
   "source": [
    "print(mean_coef.T)\n",
    "#print(np.dot(mean_coef.T, pca_coef))"
   ]
  },
  {
   "cell_type": "code",
   "execution_count": null,
   "metadata": {},
   "outputs": [],
   "source": []
  }
 ],
 "metadata": {
  "kernelspec": {
   "display_name": "Python 3",
   "language": "python",
   "name": "python3"
  },
  "language_info": {
   "codemirror_mode": {
    "name": "ipython",
    "version": 3
   },
   "file_extension": ".py",
   "mimetype": "text/x-python",
   "name": "python",
   "nbconvert_exporter": "python",
   "pygments_lexer": "ipython3",
   "version": "3.6.8"
  }
 },
 "nbformat": 4,
 "nbformat_minor": 2
}
