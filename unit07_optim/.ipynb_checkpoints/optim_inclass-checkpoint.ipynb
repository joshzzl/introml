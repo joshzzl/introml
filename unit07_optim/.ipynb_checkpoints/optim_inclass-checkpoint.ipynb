{
 "cells": [
  {
   "cell_type": "markdown",
   "metadata": {},
   "source": [
    "# Optimization In-Class Exercise\n",
    "\n",
    "Try to a build a simple optimizer to minimize a polynomial:\n",
    "\n",
    "    f(w) = a[0]*w^d + a[1]*w^(d-1) + ... + a[d]\n",
    "    \n",
    "\n",
    "for the coefficients `a = [1,0,-2,0.5,0]`\n",
    "\n",
    "\n",
    "*  Plot the function f(w)\n",
    "*  Can you see where the minima is?\n",
    "*  Write a function that outputs f(w) and its gradient.\n",
    "*  Test the gradient\n",
    "*  Run the optimizer on the function to see if it finds the minima.\n",
    "*  Print the funciton value and number of iterations.\n",
    "*  Find an initial condition where gradient descent gets stuck at a local minima.\n",
    "\n",
    "Bonus: Instead of writing the function for a specific coefficient vector a, create a class that works for an arbitrary vector a.\n",
    "You may wish to use the `np.polyval(a,x)` method to evaluate the polynomial."
   ]
  },
  {
   "cell_type": "code",
   "execution_count": 3,
   "metadata": {},
   "outputs": [],
   "source": [
    "import numpy as np\n",
    "import matplotlib.pyplot as plt\n",
    "import numpy.polynomial.polynomial as poly"
   ]
  },
  {
   "cell_type": "code",
   "execution_count": 7,
   "metadata": {},
   "outputs": [
    {
     "data": {
      "image/png": "[encoded data removed]",
      "text/plain": [
       "<Figure size 432x288 with 1 Axes>"
      ]
     },
     "metadata": {
      "needs_background": "light"
     },
     "output_type": "display_data"
    }
   ],
   "source": [
    "a = [0, 0.5, -2, 0, 1]\n",
    "xs = np.linspace(-1.5,1.5,100)\n",
    "ys = [poly.polyval(x, a) for x in xs]\n",
    "\n",
    "plt.plot(xs, ys)\n",
    "plt.grid(True)"
   ]
  },
  {
   "cell_type": "code",
   "execution_count": 9,
   "metadata": {},
   "outputs": [],
   "source": [
    "a_grad = [4,0,-4, 0.5]\n",
    "\n",
    "def f_grad(w):\n",
    "    return (poly.polyval(w, a), poly.polyval(w, a_grad))"
   ]
  },
  {
   "cell_type": "code",
   "execution_count": 11,
   "metadata": {},
   "outputs": [
    {
     "name": "stdout",
     "output_type": "stream",
     "text": [
      "(0.0, 4.0)\n",
      "(-1.5, -0.5)\n"
     ]
    }
   ],
   "source": [
    "print(f_grad(0))\n",
    "print(f_grad(-1.))"
   ]
  },
  {
   "cell_type": "code",
   "execution_count": null,
   "metadata": {},
   "outputs": [],
   "source": [
    "class Optimizer(object):\n",
    "    def __init__(self, func):\n",
    "        self.func = func\n",
    "    \n",
    "    def evaluate(self, x):\n",
    "        return self.func(x)[0]\n",
    "    \n",
    "    def grad(self, x):\n",
    "        return self.func(x)[1]"
   ]
  }
 ],
 "metadata": {
  "kernelspec": {
   "display_name": "Python 3",
   "language": "python",
   "name": "python3"
  },
  "language_info": {
   "codemirror_mode": {
    "name": "ipython",
    "version": 3
   },
   "file_extension": ".py",
   "mimetype": "text/x-python",
   "name": "python",
   "nbconvert_exporter": "python",
   "pygments_lexer": "ipython3",
   "version": "3.6.8"
  }
 },
 "nbformat": 4,
 "nbformat_minor": 2
}
